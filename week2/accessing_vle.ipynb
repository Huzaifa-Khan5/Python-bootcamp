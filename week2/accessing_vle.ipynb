{
 "metadata": {
  "language_info": {
   "codemirror_mode": {
    "name": "ipython",
    "version": 3
   },
   "file_extension": ".py",
   "mimetype": "text/x-python",
   "name": "python",
   "nbconvert_exporter": "python",
   "pygments_lexer": "ipython3",
   "version": "3.8.2-final"
  },
  "orig_nbformat": 2,
  "kernelspec": {
   "name": "python3",
   "display_name": "Python 3",
   "language": "python"
  }
 },
 "nbformat": 4,
 "nbformat_minor": 2,
 "cells": [
  {
   "cell_type": "code",
   "execution_count": 19,
   "metadata": {},
   "outputs": [],
   "source": [
    "import requests\n",
    "from bs4 import BeautifulSoup"
   ]
  },
  {
   "cell_type": "code",
   "execution_count": 20,
   "metadata": {},
   "outputs": [],
   "source": [
    "vle=\"https://ssuet.org/login/index.php\""
   ]
  },
  {
   "cell_type": "code",
   "execution_count": 24,
   "metadata": {},
   "outputs": [],
   "source": [
    "load={\"anchor\": \"\",\n",
    "\"username\": \"se20-223\",\n",
    "\"password\": \"Huzaifa512001.\",\n",
    "\"rememberusername\": \"1\"}"
   ]
  },
  {
   "cell_type": "code",
   "execution_count": 25,
   "metadata": {},
   "outputs": [],
   "source": [
    "with requests.session() as s:\n",
    "    res= s.get(vle).content\n",
    "    soup=BeautifulSoup(res)\n",
    "    token=soup.select_one('input[name=\"logintoken\"]')[\"value\"]\n",
    "    load[\"logintoken\"]=token\n",
    "    rett=s.post(vle,data=load)"
   ]
  }
 ]
}