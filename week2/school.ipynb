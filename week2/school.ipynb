{
 "metadata": {
  "language_info": {
   "codemirror_mode": {
    "name": "ipython",
    "version": 3
   },
   "file_extension": ".py",
   "mimetype": "text/x-python",
   "name": "python",
   "nbconvert_exporter": "python",
   "pygments_lexer": "ipython3",
   "version": "3.8.2-final"
  },
  "orig_nbformat": 2,
  "kernelspec": {
   "name": "python3",
   "display_name": "Python 3",
   "language": "python"
  }
 },
 "nbformat": 4,
 "nbformat_minor": 2,
 "cells": [
  {
   "cell_type": "code",
   "execution_count": 55,
   "metadata": {},
   "outputs": [],
   "source": [
    "import requests\n",
    "import json\n",
    "from csv import DictWriter"
   ]
  },
  {
   "cell_type": "code",
   "execution_count": 56,
   "metadata": {},
   "outputs": [],
   "source": [
    "data = requests.get(\"https://directory.ntschools.net/api/System/GetAllSchools\")"
   ]
  },
  {
   "cell_type": "code",
   "execution_count": 57,
   "metadata": {},
   "outputs": [],
   "source": [
    "parsed_data=json.loads(data.content)"
   ]
  },
  {
   "cell_type": "code",
   "execution_count": 58,
   "metadata": {},
   "outputs": [],
   "source": [
    "school_code = []\n",
    "for i in parsed_data:\n",
    "    school_code.append(i['itSchoolCode'])"
   ]
  },
  {
   "cell_type": "code",
   "execution_count": 59,
   "metadata": {},
   "outputs": [],
   "source": [
    "link=\"https://directory.ntschools.net/api/System/GetSchool?itSchoolCode=\""
   ]
  },
  {
   "cell_type": "code",
   "execution_count": 60,
   "metadata": {},
   "outputs": [],
   "source": [
    "list=[]\n",
    "for code in school_code:\n",
    "    schools_data=requests.get(link+code)\n",
    "    a=json.loads(schools_data.content)\n",
    "    list.append(a)"
   ]
  },
  {
   "cell_type": "code",
   "execution_count": 76,
   "metadata": {},
   "outputs": [],
   "source": [
    "with open (\"school_data.csv\",\"w\") as file:\n",
    "    writer = DictWriter(file,fieldnames=[\"School name\",\"Physical Address\",\"Head name\",\"position\",\"School telephoneNumber\",\"principal Email\"])\n",
    "    writer.writeheader()\n",
    "    for r in range(51):\n",
    "        details={\"School name\":list[r][\"name\"],\"Physical Address\":list[r][\"physicalAddress\"]['displayAddress'],     \"Head name\":list[r]['schoolManagement'][0]['firstName'],\"principal Email\":list[r][\"schoolManagement\"][0]['email'],\"School telephoneNumber\":list[r]['telephoneNumber'],\"position\":list[r]['schoolManagement'][0]['position']}\n",
    "        writer.writerow(details)"
   ]
  }
 ]
}